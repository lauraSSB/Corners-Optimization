{
 "cells": [
  {
   "cell_type": "code",
   "execution_count": 1,
   "id": "71f75d46",
   "metadata": {},
   "outputs": [],
   "source": [
    "import pandas as pd"
   ]
  },
  {
   "cell_type": "code",
   "execution_count": 2,
   "id": "cf09495c",
   "metadata": {},
   "outputs": [
    {
     "name": "stderr",
     "output_type": "stream",
     "text": [
      "/var/folders/mm/5rp42wfn61b3g1r33d3fnfvc0000gn/T/ipykernel_14142/3827937734.py:1: DtypeWarning: Columns (1,2,5,6,7,8,9,10,11,12,13,14,15,16,17,18,20,21,22,23,24,25,27,28,29,30,31,32,33,34,35,36,37,38,39,40,41,42,43,44,45,46,47,48,51,52,57,66,67,68,70,71,72,73,74,75,76,77,78,80,81,82,83,85,88,90,91,92,93,94,95,100,107,108,109,110,111,112,113,117,118,119,120,121,122,123,126,127,129,130,131,133,135,140) have mixed types. Specify dtype option on import or set low_memory=False.\n",
      "  events = pd.read_csv('/Users/arturoreza/Documents/isac_2025/events_360_data/events_df_Liga_MX_2024_2025.csv')\n"
     ]
    }
   ],
   "source": [
    "events = pd.read_csv('/Users/arturoreza/Documents/isac_2025/events_360_data/events_df_Liga_MX_2024_2025.csv')\n",
    "matches = pd.read_csv('/Users/arturoreza/Documents/isac_2025/matches_data/season_matches_2024_2025.csv')"
   ]
  },
  {
   "cell_type": "code",
   "execution_count": 3,
   "id": "f203130d",
   "metadata": {},
   "outputs": [],
   "source": [
    "# Data copies\n",
    "events_1 = events.copy()\n",
    "matches_1 = matches.copy()"
   ]
  },
  {
   "cell_type": "code",
   "execution_count": 4,
   "id": "01b6eaa5",
   "metadata": {},
   "outputs": [],
   "source": [
    "# Merging event with matches data\n",
    "df = events.merge(\n",
    "    matches[['match_id', 'home_team', 'away_team']],\n",
    "    on='match_id',\n",
    "    how='left'\n",
    ")"
   ]
  },
  {
   "cell_type": "code",
   "execution_count": 5,
   "id": "a6aedd3b",
   "metadata": {},
   "outputs": [],
   "source": [
    "# Prefer timestamp if present; else fall back to minute+second\n",
    "if 'timestamp' in df.columns and df['timestamp'].notna().any():\n",
    "    # StatsBomb-like \"HH:MM:SS.mmm\" or \"MM:SS.mmm\"\n",
    "    df['ts'] = pd.to_timedelta(df['timestamp'])\n",
    "else:\n",
    "    df['ts'] = (pd.to_timedelta(df['minute'], unit='m')\n",
    "                + pd.to_timedelta(df.get('second', 0), unit='s'))\n"
   ]
  },
  {
   "cell_type": "code",
   "execution_count": 6,
   "id": "f2497489",
   "metadata": {},
   "outputs": [],
   "source": [
    "# Order events within each match\n",
    "sort_keys = ['match_id', 'period', 'ts']\n",
    "if 'index' in df.columns:  # your file has an 'index' sequence – great tie-breaker\n",
    "    sort_keys.append('index')\n",
    "df = df.sort_values(sort_keys, kind='mergesort').reset_index(drop=True)"
   ]
  },
  {
   "cell_type": "code",
   "execution_count": 7,
   "id": "1e07be1b",
   "metadata": {},
   "outputs": [],
   "source": [
    "# Per event goal deltas from the home perspective\n",
    "df['home_goal_evt'] = ((df['shot_outcome'] == 'Goal') & (df['team'] == df['home_team'])).astype(int)\n",
    "df['away_goal_evt'] = ((df['shot_outcome'] == 'Goal') & (df['team'] == df['away_team'])).astype(int)"
   ]
  },
  {
   "cell_type": "code",
   "execution_count": 8,
   "id": "0ea78878",
   "metadata": {},
   "outputs": [],
   "source": [
    "df['goal_delta'] = df['home_goal_evt'] - df['away_goal_evt']  # +1 if home scores, -1 if away scores, 0 otherwise"
   ]
  },
  {
   "cell_type": "code",
   "execution_count": 9,
   "id": "4bb89858",
   "metadata": {},
   "outputs": [],
   "source": [
    "# Game state BEFORE the current event:\n",
    "df['game_state'] = df.groupby('match_id')['goal_delta'].cumsum().shift(fill_value=0)"
   ]
  },
  {
   "cell_type": "code",
   "execution_count": 10,
   "id": "b7244dd4",
   "metadata": {},
   "outputs": [],
   "source": [
    "df = df.drop(columns=['ts', 'home_goal_evt', 'away_goal_evt', 'goal_delta'])"
   ]
  },
  {
   "cell_type": "code",
   "execution_count": 11,
   "id": "862adca9",
   "metadata": {},
   "outputs": [],
   "source": [
    "df.to_csv('events_df_Liga_MX_2024_2025.csv')"
   ]
  }
 ],
 "metadata": {
  "kernelspec": {
   "display_name": "isac_2025",
   "language": "python",
   "name": "python3"
  },
  "language_info": {
   "codemirror_mode": {
    "name": "ipython",
    "version": 3
   },
   "file_extension": ".py",
   "mimetype": "text/x-python",
   "name": "python",
   "nbconvert_exporter": "python",
   "pygments_lexer": "ipython3",
   "version": "3.11.13"
  }
 },
 "nbformat": 4,
 "nbformat_minor": 5
}
