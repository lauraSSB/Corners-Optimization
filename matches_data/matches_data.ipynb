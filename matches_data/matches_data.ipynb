{
 "cells": [
  {
   "cell_type": "code",
   "execution_count": 2,
   "id": "eb8fb5f7",
   "metadata": {},
   "outputs": [],
   "source": [
    "import requests\n",
    "from requests.auth import HTTPBasicAuth\n",
    "from statsbombpy import sb\n",
    "import mplsoccer\n",
    "import highlight_text\n",
    "from dotenv import load_dotenv\n",
    "import os\n",
    "import pandas as pd\n"
   ]
  },
  {
   "cell_type": "code",
   "execution_count": 3,
   "id": "46997723",
   "metadata": {},
   "outputs": [
    {
     "data": {
      "text/plain": [
       "True"
      ]
     },
     "execution_count": 3,
     "metadata": {},
     "output_type": "execute_result"
    }
   ],
   "source": [
    "load_dotenv()"
   ]
  },
  {
   "cell_type": "code",
   "execution_count": 4,
   "id": "33faa244",
   "metadata": {},
   "outputs": [],
   "source": [
    "username = os.getenv(\"SB_USERNAME\")\n",
    "password = os.getenv(\"SB_PASSWORD\")"
   ]
  },
  {
   "cell_type": "code",
   "execution_count": 5,
   "id": "06349e2b",
   "metadata": {},
   "outputs": [],
   "source": [
    "creds = {\n",
    "\"user\": username,\n",
    "\"passwd\": password,\n",
    "}"
   ]
  },
  {
   "cell_type": "code",
   "execution_count": 6,
   "id": "a3cb267d",
   "metadata": {},
   "outputs": [],
   "source": [
    "comp_id = 73 # Liga MX\n",
    "season_ids = [108, 235, 281, 317] # Seasons: 21/22, 22/23, 23/24 and 24/25"
   ]
  },
  {
   "cell_type": "code",
   "execution_count": 7,
   "id": "00512211",
   "metadata": {},
   "outputs": [
    {
     "data": {
      "text/html": [
       "<div>\n",
       "<style scoped>\n",
       "    .dataframe tbody tr th:only-of-type {\n",
       "        vertical-align: middle;\n",
       "    }\n",
       "\n",
       "    .dataframe tbody tr th {\n",
       "        vertical-align: top;\n",
       "    }\n",
       "\n",
       "    .dataframe thead th {\n",
       "        text-align: right;\n",
       "    }\n",
       "</style>\n",
       "<table border=\"1\" class=\"dataframe\">\n",
       "  <thead>\n",
       "    <tr style=\"text-align: right;\">\n",
       "      <th></th>\n",
       "      <th>competition_id</th>\n",
       "      <th>season_id</th>\n",
       "      <th>country_name</th>\n",
       "      <th>competition_name</th>\n",
       "      <th>competition_gender</th>\n",
       "      <th>competition_youth</th>\n",
       "      <th>competition_international</th>\n",
       "      <th>season_name</th>\n",
       "      <th>match_updated</th>\n",
       "      <th>match_updated_360</th>\n",
       "      <th>match_available_360</th>\n",
       "      <th>match_available</th>\n",
       "    </tr>\n",
       "  </thead>\n",
       "  <tbody>\n",
       "    <tr>\n",
       "      <th>0</th>\n",
       "      <td>73</td>\n",
       "      <td>317</td>\n",
       "      <td>Mexico</td>\n",
       "      <td>Liga MX</td>\n",
       "      <td>male</td>\n",
       "      <td>False</td>\n",
       "      <td>False</td>\n",
       "      <td>2024/2025</td>\n",
       "      <td>2025-08-30T16:14:20.970616</td>\n",
       "      <td>2025-08-30T16:17:12.621755</td>\n",
       "      <td>2025-08-30T16:17:12.621755</td>\n",
       "      <td>2025-08-30T16:14:20.970616</td>\n",
       "    </tr>\n",
       "    <tr>\n",
       "      <th>1</th>\n",
       "      <td>73</td>\n",
       "      <td>281</td>\n",
       "      <td>Mexico</td>\n",
       "      <td>Liga MX</td>\n",
       "      <td>male</td>\n",
       "      <td>False</td>\n",
       "      <td>False</td>\n",
       "      <td>2023/2024</td>\n",
       "      <td>2024-12-20T23:40:31.103974</td>\n",
       "      <td>2025-06-22T23:05:32.482369</td>\n",
       "      <td>2025-06-22T23:05:32.482369</td>\n",
       "      <td>2024-12-20T23:40:31.103974</td>\n",
       "    </tr>\n",
       "    <tr>\n",
       "      <th>2</th>\n",
       "      <td>73</td>\n",
       "      <td>235</td>\n",
       "      <td>Mexico</td>\n",
       "      <td>Liga MX</td>\n",
       "      <td>male</td>\n",
       "      <td>False</td>\n",
       "      <td>False</td>\n",
       "      <td>2022/2023</td>\n",
       "      <td>2024-09-28T11:05:11.667984</td>\n",
       "      <td>2025-09-07T08:28:48.058191</td>\n",
       "      <td>2025-09-07T08:28:48.058191</td>\n",
       "      <td>2024-09-28T11:05:11.667984</td>\n",
       "    </tr>\n",
       "    <tr>\n",
       "      <th>3</th>\n",
       "      <td>73</td>\n",
       "      <td>108</td>\n",
       "      <td>Mexico</td>\n",
       "      <td>Liga MX</td>\n",
       "      <td>male</td>\n",
       "      <td>False</td>\n",
       "      <td>False</td>\n",
       "      <td>2021/2022</td>\n",
       "      <td>2024-12-10T08:59:57.612449</td>\n",
       "      <td>2024-12-10T09:06:01.294195</td>\n",
       "      <td>2024-12-10T09:06:01.294195</td>\n",
       "      <td>2024-12-10T08:59:57.612449</td>\n",
       "    </tr>\n",
       "  </tbody>\n",
       "</table>\n",
       "</div>"
      ],
      "text/plain": [
       "   competition_id  season_id country_name competition_name competition_gender  \\\n",
       "0              73        317       Mexico          Liga MX               male   \n",
       "1              73        281       Mexico          Liga MX               male   \n",
       "2              73        235       Mexico          Liga MX               male   \n",
       "3              73        108       Mexico          Liga MX               male   \n",
       "\n",
       "   competition_youth  competition_international season_name  \\\n",
       "0              False                      False   2024/2025   \n",
       "1              False                      False   2023/2024   \n",
       "2              False                      False   2022/2023   \n",
       "3              False                      False   2021/2022   \n",
       "\n",
       "                match_updated           match_updated_360  \\\n",
       "0  2025-08-30T16:14:20.970616  2025-08-30T16:17:12.621755   \n",
       "1  2024-12-20T23:40:31.103974  2025-06-22T23:05:32.482369   \n",
       "2  2024-09-28T11:05:11.667984  2025-09-07T08:28:48.058191   \n",
       "3  2024-12-10T08:59:57.612449  2024-12-10T09:06:01.294195   \n",
       "\n",
       "          match_available_360             match_available  \n",
       "0  2025-08-30T16:17:12.621755  2025-08-30T16:14:20.970616  \n",
       "1  2025-06-22T23:05:32.482369  2024-12-20T23:40:31.103974  \n",
       "2  2025-09-07T08:28:48.058191  2024-09-28T11:05:11.667984  \n",
       "3  2024-12-10T09:06:01.294195  2024-12-10T08:59:57.612449  "
      ]
     },
     "execution_count": 7,
     "metadata": {},
     "output_type": "execute_result"
    }
   ],
   "source": [
    "# Checking available data\n",
    "sb.competitions(creds={\"user\": username, \"passwd\": password})"
   ]
  },
  {
   "cell_type": "code",
   "execution_count": 8,
   "id": "7b834cfe",
   "metadata": {},
   "outputs": [
    {
     "name": "stdout",
     "output_type": "stream",
     "text": [
      "Season 108: 342 matches\n",
      "Season 235: 342 matches\n",
      "Season 281: 340 matches\n",
      "Season 317: 340 matches\n"
     ]
    }
   ],
   "source": [
    "# Looping over each season to get each match_id and metadata. \n",
    "\n",
    "frames = []\n",
    "\n",
    "for season_id in season_ids:\n",
    "    try:\n",
    "        matches = sb.matches(\n",
    "            competition_id=comp_id,\n",
    "            season_id=season_id,\n",
    "            creds={\"user\": username, \"passwd\": password}\n",
    "        )\n",
    "        matches[\"season_id\"] = season_id  # Season ID\n",
    "        frames.append(matches)\n",
    "        print(f\"Season {season_id}: {len(matches)} matches\")\n",
    "    except Exception as e:\n",
    "        print(f\"Season {season_id} failed: {e}\")"
   ]
  },
  {
   "cell_type": "code",
   "execution_count": 9,
   "id": "51589f2d",
   "metadata": {},
   "outputs": [],
   "source": [
    "# Converting all_matches into a DataFrame\n",
    "if frames:\n",
    "    all_matches = pd.concat(frames, ignore_index=True, sort=False)\n",
    "else:\n",
    "    all_matches = pd.DataFrame()"
   ]
  },
  {
   "cell_type": "code",
   "execution_count": 12,
   "id": "61a22df2",
   "metadata": {},
   "outputs": [],
   "source": [
    "# Splitting the all_matches DataFrame into seasons and converting them to lists\n",
    "season_2024_2025 = all_matches.loc[all_matches['season'] == '2024/2025']\n",
    "season_2023_2024 = all_matches.loc[all_matches['season'] == '2023/2024']\n",
    "season_2022_2023 = all_matches.loc[all_matches['season'] == '2022/2023']\n",
    "season_2021_2022 = all_matches.loc[all_matches['season'] == '2021/2022']"
   ]
  },
  {
   "cell_type": "code",
   "execution_count": 14,
   "id": "6b61d75b",
   "metadata": {},
   "outputs": [],
   "source": [
    "season_2024_2025.to_csv('season_2024_2025.csv')\n",
    "season_2023_2024.to_csv('season_2023_2024.csv')\n",
    "season_2022_2023.to_csv('season_2022_2023.csv')\n",
    "season_2021_2022.to_csv('season_2021_2022.csv')"
   ]
  }
 ],
 "metadata": {
  "kernelspec": {
   "display_name": "isac_2025",
   "language": "python",
   "name": "python3"
  },
  "language_info": {
   "codemirror_mode": {
    "name": "ipython",
    "version": 3
   },
   "file_extension": ".py",
   "mimetype": "text/x-python",
   "name": "python",
   "nbconvert_exporter": "python",
   "pygments_lexer": "ipython3",
   "version": "3.11.13"
  }
 },
 "nbformat": 4,
 "nbformat_minor": 5
}
