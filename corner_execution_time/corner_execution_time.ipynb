{
 "cells": [
  {
   "cell_type": "code",
   "execution_count": 1,
   "id": "4e967b17",
   "metadata": {},
   "outputs": [],
   "source": [
    "import pandas as pd"
   ]
  },
  {
   "cell_type": "code",
   "execution_count": 2,
   "id": "76a2ed98",
   "metadata": {},
   "outputs": [
    {
     "name": "stderr",
     "output_type": "stream",
     "text": [
      "/var/folders/mm/5rp42wfn61b3g1r33d3fnfvc0000gn/T/ipykernel_10793/1340678120.py:1: DtypeWarning: Columns (2,3,7,9,10,11,17,21,22,24,28,29,30,31,32,33,35,38,39,41,43,44,45,46,47,48,51,52,55,61,77,78,80,82,84,85,87,95,98,104,111,113,116,122,123,125,126,127,130) have mixed types. Specify dtype option on import or set low_memory=False.\n",
      "  df = pd.read_csv('/Users/arturoreza/Documents/isac_2025/events_360_data_game_state/events_df_Liga_MX_2021_2022.csv')\n"
     ]
    }
   ],
   "source": [
    "df = pd.read_csv('/Users/arturoreza/Documents/isac_2025/events_360_data_game_state/events_df_Liga_MX_2021_2022.csv')"
   ]
  },
  {
   "cell_type": "code",
   "execution_count": 3,
   "id": "57f43184",
   "metadata": {},
   "outputs": [],
   "source": [
    "# Helper: parse timestamp \"HH:MM:SS.mmm\" -> total seconds (float)\n",
    "def ts_to_seconds(ts):\n",
    "    if pd.isna(ts):\n",
    "        return None\n",
    "    h, m, s = ts.split(':')\n",
    "    return int(h) * 3600 + int(m) * 60 + float(s)"
   ]
  },
  {
   "cell_type": "code",
   "execution_count": 5,
   "id": "d38ff68e",
   "metadata": {},
   "outputs": [],
   "source": [
    "# Ensure chronological order within period & teams (as a proxy for match)\n",
    "df['time_seconds'] = df['timestamp'].apply(ts_to_seconds)\n",
    "sort_cols = [c for c in ['home_team', 'away_team', 'period', 'time_seconds'] if c in df.columns]\n",
    "if sort_cols:\n",
    "    df = df.sort_values(sort_cols).reset_index(drop=True)"
   ]
  },
  {
   "cell_type": "code",
   "execution_count": 6,
   "id": "0cd38928",
   "metadata": {},
   "outputs": [],
   "source": [
    "# Identify corner-pass execution rows\n",
    "mask_corner_exec = (\n",
    "    (df.get('play_pattern') == \"From Corner\") &\n",
    "    (df.get('pass_type') == \"Corner\") &\n",
    "    (df.get('type') == \"Pass\")\n",
    ")\n",
    "\n",
    "# Previous event time within the same game segment (home/away/period)\n",
    "group_cols = [c for c in ['home_team', 'away_team', 'period'] if c in df.columns]\n",
    "if group_cols:\n",
    "    df['prev_time_in_group'] = df.groupby(group_cols)['time_seconds'].shift(1)\n",
    "else:\n",
    "    df['prev_time_in_group'] = df['time_seconds'].shift(1)\n",
    "\n",
    "# Create requested column: corner_execution_time_raw (seconds)\n",
    "df['corner_execution_time_raw'] = None\n",
    "df.loc[mask_corner_exec, 'corner_execution_time_raw'] = (\n",
    "    df.loc[mask_corner_exec, 'time_seconds'] - df.loc[mask_corner_exec, 'prev_time_in_group']\n",
    ")"
   ]
  },
  {
   "cell_type": "code",
   "execution_count": 7,
   "id": "588f4c2d",
   "metadata": {},
   "outputs": [],
   "source": [
    "# Drop helper columns used in calculation (keep only the clean new column)\n",
    "drop_cols = [c for c in ['time_seconds', 'prev_time_in_group'] if c in df.columns]\n",
    "df = df.drop(columns=drop_cols)\n"
   ]
  },
  {
   "cell_type": "code",
   "execution_count": 8,
   "id": "e56e76a8",
   "metadata": {},
   "outputs": [],
   "source": [
    "df.to_csv('events_df_Liga_MX_2021_2022.csv')"
   ]
  },
  {
   "cell_type": "code",
   "execution_count": 13,
   "id": "f2686220",
   "metadata": {},
   "outputs": [
    {
     "data": {
      "text/plain": [
       "<Axes: >"
      ]
     },
     "execution_count": 13,
     "metadata": {},
     "output_type": "execute_result"
    },
    {
     "data": {
      "image/png": "[encoded data removed]",
      "text/plain": [
       "<Figure size 640x480 with 1 Axes>"
      ]
     },
     "metadata": {},
     "output_type": "display_data"
    }
   ],
   "source": [
    "df['corner_execution_time_raw'].hist()"
   ]
  },
  {
   "cell_type": "code",
   "execution_count": null,
   "id": "5de71688",
   "metadata": {},
   "outputs": [],
   "source": []
  }
 ],
 "metadata": {
  "kernelspec": {
   "display_name": "isac_2025",
   "language": "python",
   "name": "python3"
  },
  "language_info": {
   "codemirror_mode": {
    "name": "ipython",
    "version": 3
   },
   "file_extension": ".py",
   "mimetype": "text/x-python",
   "name": "python",
   "nbconvert_exporter": "python",
   "pygments_lexer": "ipython3",
   "version": "3.11.13"
  }
 },
 "nbformat": 4,
 "nbformat_minor": 5
}
